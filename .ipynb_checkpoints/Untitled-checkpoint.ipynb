{
 "cells": [
  {
   "cell_type": "code",
   "execution_count": null,
   "metadata": {},
   "outputs": [],
   "source": [
    "import subprocess\n",
    "subprocess.run(\"D:/TestApp/TestApp/build/tmp/TestApp/Debug/TestApp.exe\");"
   ]
  },
  {
   "cell_type": "code",
   "execution_count": 13,
   "metadata": {},
   "outputs": [
    {
     "name": "stdout",
     "output_type": "stream",
     "text": [
      "Requirement already up-to-date: scikit-learn in /Library/Frameworks/Python.framework/Versions/3.8/lib/python3.8/site-packages (0.23.2)\n",
      "Requirement already satisfied, skipping upgrade: scipy>=0.19.1 in /Library/Frameworks/Python.framework/Versions/3.8/lib/python3.8/site-packages (from scikit-learn) (1.5.3)\n",
      "Requirement already satisfied, skipping upgrade: numpy>=1.13.3 in /Library/Frameworks/Python.framework/Versions/3.8/lib/python3.8/site-packages (from scikit-learn) (1.19.3)\n",
      "Requirement already satisfied, skipping upgrade: joblib>=0.11 in /Library/Frameworks/Python.framework/Versions/3.8/lib/python3.8/site-packages (from scikit-learn) (0.17.0)\n",
      "Requirement already satisfied, skipping upgrade: threadpoolctl>=2.0.0 in /Library/Frameworks/Python.framework/Versions/3.8/lib/python3.8/site-packages (from scikit-learn) (2.1.0)\n",
      "Note: you may need to restart the kernel to use updated packages.\n"
     ]
    }
   ],
   "source": [
    "pip install -U scikit-learn"
   ]
  },
  {
   "cell_type": "code",
   "execution_count": 32,
   "metadata": {
    "scrolled": true
   },
   "outputs": [
    {
     "name": "stdout",
     "output_type": "stream",
     "text": [
      "[ 0.          0.19177596  0.35431552 ... -0.46293545 -0.35420632\n",
      " -0.19155192]\n"
     ]
    },
    {
     "data": {
      "text/plain": [
       "[<matplotlib.lines.Line2D at 0x7f87e42519d0>]"
      ]
     },
     "execution_count": 32,
     "metadata": {},
     "output_type": "execute_result"
    },
    {
     "data": {
      "image/png": "[encoded data removed]",
      "text/plain": [
       "<Figure size 432x288 with 1 Axes>"
      ]
     },
     "metadata": {
      "needs_background": "light"
     },
     "output_type": "display_data"
    }
   ],
   "source": [
    "import json\n",
    "import scipy\n",
    "from scipy.io import wavfile as wav\n",
    "import matplotlib.pyplot as plt\n",
    "import numpy as np\n",
    "import audioop\n",
    "\n",
    "from sklearn.metrics import mean_squared_error\n",
    "\n",
    "\n",
    "\n",
    "def set_preset(fc, form, order):\n",
    "    with open('TestApp/build/tmp/TestApp/apf_preset.json', 'r') as f:\n",
    "        apf_preset = json.load(f)\n",
    "    apf_preset['Cutoff freq'] = fc\n",
    "    apf_preset['Form'] = form\n",
    "    apf_preset['Order'] = order\n",
    "    with open('TestApp/build/tmp/TestApp/apf_preset.json', 'w') as f:\n",
    "        json.dump(apf_preset, f)\n",
    "    return\n",
    "\n",
    "def get_error():\n",
    "    s_r, data = wav.read('out.wav')\n",
    "#     error = data[:, 0] - data[:, 1]\n",
    "    rmse = mean_squared_error(data[:, 0], data[:, 1])\n",
    "    return rmse\n",
    "\n",
    "# s_r, data = wav.read('D:/TestApp/TestApp/build/tmp/TestApp/Debug/out.wav')\n",
    "\n",
    "\n",
    "print(data[:, 0])\n",
    "# plt.plot(error)\n",
    "# plt.plot(data[:, 0])\n",
    "\n",
    "arr = []\n",
    "for fc in range(1, 24000, 25):\n",
    "    set_preset(fc, 1, 2)\n",
    "    subprocess.run(['TestApp/build/tmp/TestApp/TestApp', '--apf', '--in', 'TestApp/build/tmp/TestApp/step.wav', '--out', 'out.wav']);\n",
    "    arr.append(get_error())\n",
    "#     arr.append(0, axis = 1)\n",
    "\n",
    "plt.plot(arr)\n",
    "    "
   ]
  },
  {
   "cell_type": "code",
   "execution_count": 35,
   "metadata": {},
   "outputs": [],
   "source": [
    "import subprocess\n",
    "subprocess.run(['TestApp/build/tmp/TestApp/TestApp', '--apf', '--in', 'TestApp/build/tmp/TestApp/step.wav', '--out', 'out.wav']);"
   ]
  }
 ],
 "metadata": {
  "kernelspec": {
   "display_name": "Python 3",
   "language": "python",
   "name": "python3"
  },
  "language_info": {
   "codemirror_mode": {
    "name": "ipython",
    "version": 3
   },
   "file_extension": ".py",
   "mimetype": "text/x-python",
   "name": "python",
   "nbconvert_exporter": "python",
   "pygments_lexer": "ipython3",
   "version": "3.8.0"
  }
 },
 "nbformat": 4,
 "nbformat_minor": 4
}
