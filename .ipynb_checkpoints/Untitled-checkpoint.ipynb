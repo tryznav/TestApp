{
 "cells": [
  {
   "cell_type": "code",
   "execution_count": null,
   "metadata": {},
   "outputs": [],
   "source": [
    "import subprocess\n",
    "subprocess.run(\"D:/TestApp/TestApp/build/tmp/TestApp/Debug/TestApp.exe\");"
   ]
  },
  {
   "cell_type": "code",
   "execution_count": 21,
   "metadata": {},
   "outputs": [
    {
     "name": "stdout",
     "output_type": "stream",
     "text": [
      "[0. 0. 0. ... 0. 0. 0.]\n"
     ]
    },
    {
     "data": {
      "image/png": "[encoded data removed]",
      "text/plain": [
       "<Figure size 432x288 with 1 Axes>"
      ]
     },
     "metadata": {
      "needs_background": "light"
     },
     "output_type": "display_data"
    }
   ],
   "source": [
    "import json\n",
    "from scipy.io import wavfile as wav\n",
    "import matplotlib.pyplot as plt\n",
    "import numpy as np\n",
    "\n",
    "\n",
    "def set_preset(fc, form, order):\n",
    "    with open('D:/TestApp/TestApp/build/tmp/TestApp/Debug/apf_preset.json', 'r') as f:\n",
    "        apf_preset = json.load(f)\n",
    "    apf_preset['Cutoff freq'] = fc\n",
    "    apf_preset['Form'] = form\n",
    "    apf_preset['Order'] = order\n",
    "    with open('D:/TestApp/TestApp/build/tmp/TestApp/Debug/apf_preset.json', 'w') as f:\n",
    "        json.dump(apf_preset, f)\n",
    "    return\n",
    "\n",
    "# def get_error(fc, form, order):\n",
    "#     return rms, peak\n",
    "\n",
    "s_r, data = wav.read('D:/TestApp/TestApp/build/tmp/TestApp/Debug/out.wav')\n",
    "error = data[:, 0] - data[:, 1]\n",
    "print(error)\n",
    "plt.plot(error)\n",
    "\n",
    "for fc in range(1, 24000, 25):\n",
    "    set_preset(fc, 1, 2)\n",
    "\n",
    "    \n"
   ]
  },
  {
   "cell_type": "code",
   "execution_count": null,
   "metadata": {},
   "outputs": [],
   "source": []
  }
 ],
 "metadata": {
  "kernelspec": {
   "display_name": "Python 3",
   "language": "python",
   "name": "python3"
  },
  "language_info": {
   "codemirror_mode": {
    "name": "ipython",
    "version": 3
   },
   "file_extension": ".py",
   "mimetype": "text/x-python",
   "name": "python",
   "nbconvert_exporter": "python",
   "pygments_lexer": "ipython3",
   "version": "3.6.4"
  }
 },
 "nbformat": 4,
 "nbformat_minor": 4
}
