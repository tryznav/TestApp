{
 "cells": [
  {
   "cell_type": "code",
   "execution_count": 3,
   "metadata": {},
   "outputs": [],
   "source": [
    "import subprocess\n",
    "subprocess.run(\"D:/TestApp/TestApp/build/tmp/TestApp/Debug/TestApp.exe\");"
   ]
  },
  {
   "cell_type": "code",
   "execution_count": 2,
   "metadata": {},
   "outputs": [
    {
     "name": "stdout",
     "output_type": "stream",
     "text": [
      "Collecting scikit-learn\n",
      "  Downloading scikit_learn-0.23.2-cp36-cp36m-win_amd64.whl (6.8 MB)\n",
      "Requirement already satisfied, skipping upgrade: numpy>=1.13.3 in c:\\python36x64\\lib\\site-packages (from scikit-learn) (1.19.2)\n",
      "Collecting threadpoolctl>=2.0.0\n",
      "  Downloading threadpoolctl-2.1.0-py3-none-any.whl (12 kB)\n",
      "Collecting joblib>=0.11\n",
      "  Downloading joblib-0.17.0-py3-none-any.whl (301 kB)\n",
      "Requirement already satisfied, skipping upgrade: scipy>=0.19.1 in c:\\python36x64\\lib\\site-packages (from scikit-learn) (1.5.3)\n",
      "Installing collected packages: threadpoolctl, joblib, scikit-learn\n",
      "Successfully installed joblib-0.17.0 scikit-learn-0.23.2 threadpoolctl-2.1.0\n",
      "Note: you may need to restart the kernel to use updated packages.\n"
     ]
    }
   ],
   "source": [
    "pip install -U scikit-learn"
   ]
  },
  {
   "cell_type": "code",
   "execution_count": 44,
   "metadata": {
    "scrolled": false
   },
   "outputs": [],
   "source": [
    "import json\n",
    "import scipy\n",
    "from scipy.io import wavfile as wav\n",
    "import matplotlib.pyplot as plt\n",
    "import numpy as np\n",
    "import audioop\n",
    "import subprocess\n",
    "\n",
    "from sklearn.metrics import mean_squared_error\n",
    "\n",
    "\n",
    "\n",
    "def set_preset(fc, form, order):\n",
    "    with open('preset.json', 'r') as f:\n",
    "        apf_preset = json.load(f)\n",
    "    \n",
    "    apf_preset['Apf']['Cutoff freq'] = fc\n",
    "    apf_preset['Apf']['Form'] = form\n",
    "    apf_preset['Apf']['Order'] = order\n",
    "    with open('preset.json', 'w') as f:\n",
    "        json.dump(apf_preset, f)\n",
    "    return\n",
    "\n",
    "def get_error():\n",
    "    s_r, data = wav.read('out.wav')\n",
    "#     error = data[:, 0] - data[:, 1]\n",
    "    rmse = mean_squared_error(data[:, 0], data[:, 1], squared=False)\n",
    "#     print(rmse)\n",
    "    return rmse\n",
    "\n",
    "\n",
    "\n",
    "# print(data[:, 0])\n",
    "# plt.plot(error)\n",
    "# plt.plot(data[:, 0])\n",
    "\n",
    "start_freq = 1\n",
    "cutoff_freq = 24000\n",
    "step = 250\n",
    "test_signal = 'test/in_sweep.wav'\n",
    "# 'test/in_step.wav'\n",
    "fcut = range(1,cutoff_freq, step)\n",
    "\n",
    "set_preset(1, 1, 1)\n",
    "subprocess.run(['TestApp/build/tmp/TestApp/Debug/TestApp', '--apf', '--in', test_signal, '--out', 'out.wav']);\n",
    "\n",
    "# direct1 = []\n",
    "# for fc in fcut:\n",
    "#     set_preset(fc, 1, 1)\n",
    "#     subprocess.run(['TestApp/build/tmp/TestApp/Debug/TestApp', '--apf', '--in', test_signal, '--out', 'out.wav']);\n",
    "#     direct1.append(get_error())\n",
    "# direct1_t = []\n",
    "# for fc in fcut:\n",
    "#     set_preset(fc, 2, 1)\n",
    "#     subprocess.run(['TestApp/build/tmp/TestApp/Debug/TestApp', '--apf', '--in', test_signal, '--out', 'out.wav']);\n",
    "#     direct1_t.append(get_error())\n",
    "# # direct2 = []\n",
    "# # for fc in range(start_freq,cutoff_freq, 1):\n",
    "# #     set_preset(fc, 3, 2)\n",
    "# #     subprocess.run(['TestApp/build/tmp/TestApp/Debug/TestApp', '--apf', '--in', test_signal, '--out', 'out.wav']);\n",
    "# #     direct2.append(get_error())\n",
    "# # direct2_t = []\n",
    "# # for fc in range(start_freq,cutoff_freq, 1):\n",
    "# #     set_preset(fc, 4, 2)\n",
    "# #     subprocess.run(['TestApp/build/tmp/TestApp/Debug/TestApp', '--apf', '--in', test_signal, '--out', 'out.wav']);\n",
    "# #     direct2_t.append(get_error())\n",
    "# # lattice = []\n",
    "# # for fc in range(start_freq,cutoff_freq, 1):\n",
    "# #     set_preset(fc, 5, 2)\n",
    "# #     subprocess.run(['TestApp/build/tmp/TestApp/Debug/TestApp', '--apf', '--in', test_signal, '--out', 'out.wav']);\n",
    "# #     lattice.append(get_error())"
   ]
  },
  {
   "cell_type": "code",
   "execution_count": 6,
   "metadata": {},
   "outputs": [
    {
     "ename": "FileNotFoundError",
     "evalue": "[WinError 2] The system cannot find the file specified",
     "output_type": "error",
     "traceback": [
      "\u001b[1;31m---------------------------------------------------------------------------\u001b[0m",
      "\u001b[1;31mFileNotFoundError\u001b[0m                         Traceback (most recent call last)",
      "\u001b[1;32m<ipython-input-6-ec1c9e57e134>\u001b[0m in \u001b[0;36m<module>\u001b[1;34m\u001b[0m\n\u001b[0;32m      1\u001b[0m \u001b[1;32mimport\u001b[0m \u001b[0msubprocess\u001b[0m\u001b[1;33m\u001b[0m\u001b[0m\n\u001b[1;32m----> 2\u001b[1;33m \u001b[0msubprocess\u001b[0m\u001b[1;33m.\u001b[0m\u001b[0mrun\u001b[0m\u001b[1;33m(\u001b[0m\u001b[1;33m[\u001b[0m\u001b[1;34m'TestApp/build/tmp/TestApp/TestApp'\u001b[0m\u001b[1;33m,\u001b[0m \u001b[1;34m'--apf'\u001b[0m\u001b[1;33m,\u001b[0m \u001b[1;34m'--in'\u001b[0m\u001b[1;33m,\u001b[0m \u001b[1;34m'TestApp/build/tmp/TestApp/step.wav'\u001b[0m\u001b[1;33m,\u001b[0m \u001b[1;34m'--out'\u001b[0m\u001b[1;33m,\u001b[0m \u001b[1;34m'out.wav'\u001b[0m\u001b[1;33m]\u001b[0m\u001b[1;33m)\u001b[0m\u001b[1;33m;\u001b[0m\u001b[1;33m\u001b[0m\u001b[0m\n\u001b[0m",
      "\u001b[1;32mc:\\python36x64\\lib\\subprocess.py\u001b[0m in \u001b[0;36mrun\u001b[1;34m(input, timeout, check, *popenargs, **kwargs)\u001b[0m\n\u001b[0;32m    401\u001b[0m         \u001b[0mkwargs\u001b[0m\u001b[1;33m[\u001b[0m\u001b[1;34m'stdin'\u001b[0m\u001b[1;33m]\u001b[0m \u001b[1;33m=\u001b[0m \u001b[0mPIPE\u001b[0m\u001b[1;33m\u001b[0m\u001b[0m\n\u001b[0;32m    402\u001b[0m \u001b[1;33m\u001b[0m\u001b[0m\n\u001b[1;32m--> 403\u001b[1;33m     \u001b[1;32mwith\u001b[0m \u001b[0mPopen\u001b[0m\u001b[1;33m(\u001b[0m\u001b[1;33m*\u001b[0m\u001b[0mpopenargs\u001b[0m\u001b[1;33m,\u001b[0m \u001b[1;33m**\u001b[0m\u001b[0mkwargs\u001b[0m\u001b[1;33m)\u001b[0m \u001b[1;32mas\u001b[0m \u001b[0mprocess\u001b[0m\u001b[1;33m:\u001b[0m\u001b[1;33m\u001b[0m\u001b[0m\n\u001b[0m\u001b[0;32m    404\u001b[0m         \u001b[1;32mtry\u001b[0m\u001b[1;33m:\u001b[0m\u001b[1;33m\u001b[0m\u001b[0m\n\u001b[0;32m    405\u001b[0m             \u001b[0mstdout\u001b[0m\u001b[1;33m,\u001b[0m \u001b[0mstderr\u001b[0m \u001b[1;33m=\u001b[0m \u001b[0mprocess\u001b[0m\u001b[1;33m.\u001b[0m\u001b[0mcommunicate\u001b[0m\u001b[1;33m(\u001b[0m\u001b[0minput\u001b[0m\u001b[1;33m,\u001b[0m \u001b[0mtimeout\u001b[0m\u001b[1;33m=\u001b[0m\u001b[0mtimeout\u001b[0m\u001b[1;33m)\u001b[0m\u001b[1;33m\u001b[0m\u001b[0m\n",
      "\u001b[1;32mc:\\python36x64\\lib\\subprocess.py\u001b[0m in \u001b[0;36m__init__\u001b[1;34m(self, args, bufsize, executable, stdin, stdout, stderr, preexec_fn, close_fds, shell, cwd, env, universal_newlines, startupinfo, creationflags, restore_signals, start_new_session, pass_fds, encoding, errors)\u001b[0m\n\u001b[0;32m    707\u001b[0m                                 \u001b[0mc2pread\u001b[0m\u001b[1;33m,\u001b[0m \u001b[0mc2pwrite\u001b[0m\u001b[1;33m,\u001b[0m\u001b[1;33m\u001b[0m\u001b[0m\n\u001b[0;32m    708\u001b[0m                                 \u001b[0merrread\u001b[0m\u001b[1;33m,\u001b[0m \u001b[0merrwrite\u001b[0m\u001b[1;33m,\u001b[0m\u001b[1;33m\u001b[0m\u001b[0m\n\u001b[1;32m--> 709\u001b[1;33m                                 restore_signals, start_new_session)\n\u001b[0m\u001b[0;32m    710\u001b[0m         \u001b[1;32mexcept\u001b[0m\u001b[1;33m:\u001b[0m\u001b[1;33m\u001b[0m\u001b[0m\n\u001b[0;32m    711\u001b[0m             \u001b[1;31m# Cleanup if the child failed starting.\u001b[0m\u001b[1;33m\u001b[0m\u001b[1;33m\u001b[0m\u001b[0m\n",
      "\u001b[1;32mc:\\python36x64\\lib\\subprocess.py\u001b[0m in \u001b[0;36m_execute_child\u001b[1;34m(self, args, executable, preexec_fn, close_fds, pass_fds, cwd, env, startupinfo, creationflags, shell, p2cread, p2cwrite, c2pread, c2pwrite, errread, errwrite, unused_restore_signals, unused_start_new_session)\u001b[0m\n\u001b[0;32m    995\u001b[0m                                          \u001b[0menv\u001b[0m\u001b[1;33m,\u001b[0m\u001b[1;33m\u001b[0m\u001b[0m\n\u001b[0;32m    996\u001b[0m                                          \u001b[0mos\u001b[0m\u001b[1;33m.\u001b[0m\u001b[0mfspath\u001b[0m\u001b[1;33m(\u001b[0m\u001b[0mcwd\u001b[0m\u001b[1;33m)\u001b[0m \u001b[1;32mif\u001b[0m \u001b[0mcwd\u001b[0m \u001b[1;32mis\u001b[0m \u001b[1;32mnot\u001b[0m \u001b[1;32mNone\u001b[0m \u001b[1;32melse\u001b[0m \u001b[1;32mNone\u001b[0m\u001b[1;33m,\u001b[0m\u001b[1;33m\u001b[0m\u001b[0m\n\u001b[1;32m--> 997\u001b[1;33m                                          startupinfo)\n\u001b[0m\u001b[0;32m    998\u001b[0m             \u001b[1;32mfinally\u001b[0m\u001b[1;33m:\u001b[0m\u001b[1;33m\u001b[0m\u001b[0m\n\u001b[0;32m    999\u001b[0m                 \u001b[1;31m# Child is launched. Close the parent's copy of those pipe\u001b[0m\u001b[1;33m\u001b[0m\u001b[1;33m\u001b[0m\u001b[0m\n",
      "\u001b[1;31mFileNotFoundError\u001b[0m: [WinError 2] The system cannot find the file specified"
     ]
    }
   ],
   "source": [
    "import subprocess\n",
    "subprocess.run(['TestApp/build/tmp/TestApp/TestApp', '--apf', '--in', 'TestApp/build/tmp/TestApp/step.wav', '--out', 'out.wav']);"
   ]
  },
  {
   "cell_type": "code",
   "execution_count": 9,
   "metadata": {
    "scrolled": true
   },
   "outputs": [
    {
     "data": {
      "image/png": "[encoded data removed]",
      "text/plain": [
       "<Figure size 432x288 with 1 Axes>"
      ]
     },
     "metadata": {
      "needs_background": "light"
     },
     "output_type": "display_data"
    }
   ],
   "source": [
    "# plt.axis\n",
    "# import matplotlib.axes.Axes as axes\n",
    "# axes.set_xlim([40, 60])\n",
    "# fig,ax = plt.subplots()\n",
    "\n",
    "import matplotlib.pyplot as plt\n",
    "import matplotlib.axes as axe\n",
    "# axe.Axes.set_xlim([40, 60])\n",
    "# plt.axis( [0, 1000])\n",
    "\n",
    "# plt.plot(lattice,label='lattice')\n",
    "plt.plot(fcut, direct1, label='Direct1')\n",
    "plt.plot(fcut, direct1_t, label='Direct1 Tr')\n",
    "# plt.plot(direct2,label='Direct2')\n",
    "# plt.plot(direct2_t,label='Direct2 Tr')\n",
    "# plt.Axes.set_xlim([40, 60])\n",
    "# plt.axis([-1,20,0,0.00000001])\n",
    "\n",
    "plt.ylabel('RMSE')\n",
    "plt.xlabel('Cutoff frequency')\n",
    "plt.title(test_signal)\n",
    "# ax_zoom = plottools.zoom_axes(fig,ax,[0.1,0.2],[0.8,0.9],[0.6,0.9],[0.6,0.9])\n",
    "# print(res)\n",
    "plt.legend()\n",
    "plt.show()"
   ]
  },
  {
   "cell_type": "code",
   "execution_count": 1,
   "metadata": {},
   "outputs": [
    {
     "ename": "KeyboardInterrupt",
     "evalue": "",
     "output_type": "error",
     "traceback": [
      "\u001b[1;31m---------------------------------------------------------------------------\u001b[0m",
      "\u001b[1;31mKeyboardInterrupt\u001b[0m                         Traceback (most recent call last)",
      "\u001b[1;32m<ipython-input-1-f024170258dc>\u001b[0m in \u001b[0;36m<module>\u001b[1;34m\u001b[0m\n\u001b[0;32m     27\u001b[0m \u001b[1;33m\u001b[0m\u001b[0m\n\u001b[0;32m     28\u001b[0m \u001b[0mset_preset\u001b[0m\u001b[1;33m(\u001b[0m\u001b[1;36m500\u001b[0m\u001b[1;33m,\u001b[0m \u001b[1;36m1\u001b[0m\u001b[1;33m,\u001b[0m \u001b[1;36m2\u001b[0m\u001b[1;33m)\u001b[0m\u001b[1;33m\u001b[0m\u001b[0m\n\u001b[1;32m---> 29\u001b[1;33m \u001b[0msubprocess\u001b[0m\u001b[1;33m.\u001b[0m\u001b[0mrun\u001b[0m\u001b[1;33m(\u001b[0m\u001b[1;33m[\u001b[0m\u001b[1;34m'TestApp/build/tmp/TestApp/Debug/TestApp'\u001b[0m\u001b[1;33m,\u001b[0m \u001b[1;34m'--apf'\u001b[0m\u001b[1;33m,\u001b[0m \u001b[1;34m'--in'\u001b[0m\u001b[1;33m,\u001b[0m \u001b[1;34m'test/in_sweep.wav'\u001b[0m\u001b[1;33m,\u001b[0m \u001b[1;34m'--out'\u001b[0m\u001b[1;33m,\u001b[0m \u001b[1;34m'out.wav'\u001b[0m\u001b[1;33m]\u001b[0m\u001b[1;33m)\u001b[0m\u001b[1;33m;\u001b[0m\u001b[1;33m\u001b[0m\u001b[0m\n\u001b[0m\u001b[0;32m     30\u001b[0m \u001b[0ms_r\u001b[0m\u001b[1;33m,\u001b[0m \u001b[0mdata\u001b[0m \u001b[1;33m=\u001b[0m \u001b[0mwav\u001b[0m\u001b[1;33m.\u001b[0m\u001b[0mread\u001b[0m\u001b[1;33m(\u001b[0m\u001b[1;34m'out.wav'\u001b[0m\u001b[1;33m)\u001b[0m\u001b[1;33m\u001b[0m\u001b[0m\n\u001b[0;32m     31\u001b[0m \u001b[0merror\u001b[0m \u001b[1;33m=\u001b[0m \u001b[0mdata\u001b[0m\u001b[1;33m[\u001b[0m\u001b[1;33m:\u001b[0m\u001b[1;33m,\u001b[0m \u001b[1;36m0\u001b[0m\u001b[1;33m]\u001b[0m \u001b[1;33m-\u001b[0m \u001b[0mdata\u001b[0m\u001b[1;33m[\u001b[0m\u001b[1;33m:\u001b[0m\u001b[1;33m,\u001b[0m \u001b[1;36m1\u001b[0m\u001b[1;33m]\u001b[0m\u001b[1;33m\u001b[0m\u001b[0m\n",
      "\u001b[1;32mc:\\python36x64\\lib\\subprocess.py\u001b[0m in \u001b[0;36mrun\u001b[1;34m(input, timeout, check, *popenargs, **kwargs)\u001b[0m\n\u001b[0;32m    403\u001b[0m     \u001b[1;32mwith\u001b[0m \u001b[0mPopen\u001b[0m\u001b[1;33m(\u001b[0m\u001b[1;33m*\u001b[0m\u001b[0mpopenargs\u001b[0m\u001b[1;33m,\u001b[0m \u001b[1;33m**\u001b[0m\u001b[0mkwargs\u001b[0m\u001b[1;33m)\u001b[0m \u001b[1;32mas\u001b[0m \u001b[0mprocess\u001b[0m\u001b[1;33m:\u001b[0m\u001b[1;33m\u001b[0m\u001b[0m\n\u001b[0;32m    404\u001b[0m         \u001b[1;32mtry\u001b[0m\u001b[1;33m:\u001b[0m\u001b[1;33m\u001b[0m\u001b[0m\n\u001b[1;32m--> 405\u001b[1;33m             \u001b[0mstdout\u001b[0m\u001b[1;33m,\u001b[0m \u001b[0mstderr\u001b[0m \u001b[1;33m=\u001b[0m \u001b[0mprocess\u001b[0m\u001b[1;33m.\u001b[0m\u001b[0mcommunicate\u001b[0m\u001b[1;33m(\u001b[0m\u001b[0minput\u001b[0m\u001b[1;33m,\u001b[0m \u001b[0mtimeout\u001b[0m\u001b[1;33m=\u001b[0m\u001b[0mtimeout\u001b[0m\u001b[1;33m)\u001b[0m\u001b[1;33m\u001b[0m\u001b[0m\n\u001b[0m\u001b[0;32m    406\u001b[0m         \u001b[1;32mexcept\u001b[0m \u001b[0mTimeoutExpired\u001b[0m\u001b[1;33m:\u001b[0m\u001b[1;33m\u001b[0m\u001b[0m\n\u001b[0;32m    407\u001b[0m             \u001b[0mprocess\u001b[0m\u001b[1;33m.\u001b[0m\u001b[0mkill\u001b[0m\u001b[1;33m(\u001b[0m\u001b[1;33m)\u001b[0m\u001b[1;33m\u001b[0m\u001b[0m\n",
      "\u001b[1;32mc:\\python36x64\\lib\\subprocess.py\u001b[0m in \u001b[0;36mcommunicate\u001b[1;34m(self, input, timeout)\u001b[0m\n\u001b[0;32m    833\u001b[0m                 \u001b[0mstderr\u001b[0m \u001b[1;33m=\u001b[0m \u001b[0mself\u001b[0m\u001b[1;33m.\u001b[0m\u001b[0mstderr\u001b[0m\u001b[1;33m.\u001b[0m\u001b[0mread\u001b[0m\u001b[1;33m(\u001b[0m\u001b[1;33m)\u001b[0m\u001b[1;33m\u001b[0m\u001b[0m\n\u001b[0;32m    834\u001b[0m                 \u001b[0mself\u001b[0m\u001b[1;33m.\u001b[0m\u001b[0mstderr\u001b[0m\u001b[1;33m.\u001b[0m\u001b[0mclose\u001b[0m\u001b[1;33m(\u001b[0m\u001b[1;33m)\u001b[0m\u001b[1;33m\u001b[0m\u001b[0m\n\u001b[1;32m--> 835\u001b[1;33m             \u001b[0mself\u001b[0m\u001b[1;33m.\u001b[0m\u001b[0mwait\u001b[0m\u001b[1;33m(\u001b[0m\u001b[1;33m)\u001b[0m\u001b[1;33m\u001b[0m\u001b[0m\n\u001b[0m\u001b[0;32m    836\u001b[0m         \u001b[1;32melse\u001b[0m\u001b[1;33m:\u001b[0m\u001b[1;33m\u001b[0m\u001b[0m\n\u001b[0;32m    837\u001b[0m             \u001b[1;32mif\u001b[0m \u001b[0mtimeout\u001b[0m \u001b[1;32mis\u001b[0m \u001b[1;32mnot\u001b[0m \u001b[1;32mNone\u001b[0m\u001b[1;33m:\u001b[0m\u001b[1;33m\u001b[0m\u001b[0m\n",
      "\u001b[1;32mc:\\python36x64\\lib\\subprocess.py\u001b[0m in \u001b[0;36mwait\u001b[1;34m(self, timeout, endtime)\u001b[0m\n\u001b[0;32m   1053\u001b[0m             \u001b[1;32mif\u001b[0m \u001b[0mself\u001b[0m\u001b[1;33m.\u001b[0m\u001b[0mreturncode\u001b[0m \u001b[1;32mis\u001b[0m \u001b[1;32mNone\u001b[0m\u001b[1;33m:\u001b[0m\u001b[1;33m\u001b[0m\u001b[0m\n\u001b[0;32m   1054\u001b[0m                 result = _winapi.WaitForSingleObject(self._handle,\n\u001b[1;32m-> 1055\u001b[1;33m                                                     timeout_millis)\n\u001b[0m\u001b[0;32m   1056\u001b[0m                 \u001b[1;32mif\u001b[0m \u001b[0mresult\u001b[0m \u001b[1;33m==\u001b[0m \u001b[0m_winapi\u001b[0m\u001b[1;33m.\u001b[0m\u001b[0mWAIT_TIMEOUT\u001b[0m\u001b[1;33m:\u001b[0m\u001b[1;33m\u001b[0m\u001b[0m\n\u001b[0;32m   1057\u001b[0m                     \u001b[1;32mraise\u001b[0m \u001b[0mTimeoutExpired\u001b[0m\u001b[1;33m(\u001b[0m\u001b[0mself\u001b[0m\u001b[1;33m.\u001b[0m\u001b[0margs\u001b[0m\u001b[1;33m,\u001b[0m \u001b[0mtimeout\u001b[0m\u001b[1;33m)\u001b[0m\u001b[1;33m\u001b[0m\u001b[0m\n",
      "\u001b[1;31mKeyboardInterrupt\u001b[0m: "
     ]
    }
   ],
   "source": [
    "import json\n",
    "import scipy\n",
    "from scipy.io import wavfile as wav\n",
    "import matplotlib.pyplot as plt\n",
    "import numpy as np\n",
    "import audioop\n",
    "import subprocess\n",
    "\n",
    "from sklearn.metrics import mean_squared_error\n",
    "\n",
    "def get_error():\n",
    "    s_r, data = wav.read('out.wav')\n",
    "#     error = data[:, 0] - data[:, 1]\n",
    "    rmse = mean_squared_error(data[:, 0], data[:, 1], squared=False)\n",
    "#     print(rmse)\n",
    "    return rmse\n",
    "\n",
    "def set_preset(fc, form, order):\n",
    "    with open('apf_preset.json', 'r') as f:\n",
    "        apf_preset = json.load(f)\n",
    "    apf_preset['Cutoff freq'] = fc\n",
    "    apf_preset['Form'] = form\n",
    "    apf_preset['Order'] = order\n",
    "    with open('apf_preset.json', 'w') as f:\n",
    "        json.dump(apf_preset, f)\n",
    "    return\n",
    "\n",
    "set_preset(1, 1, 2)\n",
    "subprocess.run(['TestApp/build/tmp/TestApp/Debug/TestApp', '--apf', '--in', 'test/in_sweep.wav', '--out', 'out.wav']);\n",
    "s_r, data = wav.read('out.wav')\n",
    "error = data[:, 0] - data[:, 1]\n",
    "error = abs(error)\n",
    "# plt.axis([5000,5500,-4000000000,4000000000])\n",
    "plt.plot(error)\n",
    "print(error)\n",
    "print(get_error())\n",
    "print()"
   ]
  },
  {
   "cell_type": "code",
   "execution_count": 3,
   "metadata": {},
   "outputs": [],
   "source": [
    "import json\n",
    "import scipy\n",
    "from scipy.io import wavfile as wav\n",
    "import matplotlib.pyplot as plt\n",
    "import numpy as np\n",
    "import audioop\n",
    "import subprocess\n",
    "\n",
    "from sklearn.metrics import mean_squared_error\n",
    "\n",
    "\n",
    "\n",
    "def set_preset(fc, form, order):\n",
    "    with open('apf_preset.json', 'r') as f:\n",
    "        apf_preset = json.load(f)\n",
    "    apf_preset['Cutoff freq'] = fc\n",
    "    apf_preset['Form'] = form\n",
    "    apf_preset['Order'] = order\n",
    "    with open('apf_preset.json', 'w') as f:\n",
    "        json.dump(apf_preset, f)\n",
    "    return\n",
    "\n",
    "def get_error_fxd():\n",
    "    s_r, data = wav.read('out.wav')\n",
    "#     error = data[:, 0] - data[:, 1]\n",
    "    data2 = data/2147483648.0\n",
    "    rmse = mean_squared_error(data2[:, 0], data2[:, 1], squared=False)\n",
    "#     print(rmse)\n",
    "    return rmse\n",
    "\n",
    "\n",
    "\n",
    "# print(data[:, 0])\n",
    "# plt.plot(error)\n",
    "# plt.plot(data[:, 0])\n",
    "\n",
    "lattice = []\n",
    "cutoff_freq = 500\n",
    "test_signal = 'test/Sound_q31_0dB.wav'\n",
    "# \n",
    "# for fc in range(1,cutoff_freq, 1):\n",
    "#     set_preset(fc, 5, 2)\n",
    "#     subprocess.run(['TestApp/build/tmp/TestApp/Debug/TestApp', '--apf', '--in', test_signal, '--out', 'out.wav']);\n",
    "#     lattice.append(get_error_fxd())\n",
    "direct1 = []\n",
    "# for fc in range(1,cutoff_freq, 1):\n",
    "#     set_preset(fc, 3, 2)\n",
    "#     subprocess.run(['TestApp/build/tmp/TestApp/Debug/TestApp', '--apf', '--in', test_signal, '--out', 'out.wav']);\n",
    "#     direct1.append(get_error())\n",
    "direct2 = []\n",
    "for fc in range(1,cutoff_freq, 1):\n",
    "    set_preset(fc, 1, 2)\n",
    "    subprocess.run(['TestApp/build/tmp/TestApp/Debug/TestApp', '--apf', '--in', test_signal, '--out', 'out.wav']);\n",
    "    direct2.append(get_error_fxd())"
   ]
  },
  {
   "cell_type": "code",
   "execution_count": 6,
   "metadata": {
    "scrolled": true
   },
   "outputs": [
    {
     "data": {
      "image/png": "[encoded data removed]",
      "text/plain": [
       "<Figure size 432x288 with 1 Axes>"
      ]
     },
     "metadata": {
      "needs_background": "light"
     },
     "output_type": "display_data"
    }
   ],
   "source": [
    "# plt.axis\n",
    "# import matplotlib.axes.Axes as axes\n",
    "# axes.set_xlim([40, 60])\n",
    "# fig,ax = plt.subplots()\n",
    "\n",
    "import matplotlib.pyplot as plt\n",
    "import matplotlib.axes as axe\n",
    "# axe.Axes.set_xlim([40, 60])\n",
    "# plt.axis( [0, 1000])\n",
    "\n",
    "# plt.plot(lattice,label='lattice')\n",
    "# plt.plot(direct1,label='Direct1')\n",
    "plt.plot(direct2,label='Direct2')\n",
    "# plt.Axes.set_xlim([40, 60])\n",
    "# plt.axis([0,20,0,0.04])\n",
    "plt.ylabel('RMSE')\n",
    "plt.xlabel('Cutoff frequency')\n",
    "plt.title(test_signal)\n",
    "# ax_zoom = plottools.zoom_axes(fig,ax,[0.1,0.2],[0.8,0.9],[0.6,0.9],[0.6,0.9])\n",
    "# print(res)\n",
    "plt.legend()\n",
    "plt.show()"
   ]
  },
  {
   "cell_type": "code",
   "execution_count": 1,
   "metadata": {},
   "outputs": [
    {
     "ename": "ValueError",
     "evalue": "File format b'' not understood. Only 'RIFF' and 'RIFX' supported.",
     "output_type": "error",
     "traceback": [
      "\u001b[1;31m---------------------------------------------------------------------------\u001b[0m",
      "\u001b[1;31mValueError\u001b[0m                                Traceback (most recent call last)",
      "\u001b[1;32m<ipython-input-1-86423d16f074>\u001b[0m in \u001b[0;36m<module>\u001b[1;34m\u001b[0m\n\u001b[0;32m     25\u001b[0m \u001b[0mset_preset\u001b[0m\u001b[1;33m(\u001b[0m\u001b[1;36m1\u001b[0m\u001b[1;33m,\u001b[0m \u001b[1;36m2\u001b[0m\u001b[1;33m,\u001b[0m \u001b[1;36m2\u001b[0m\u001b[1;33m)\u001b[0m\u001b[1;33m\u001b[0m\u001b[0m\n\u001b[0;32m     26\u001b[0m \u001b[0msubprocess\u001b[0m\u001b[1;33m.\u001b[0m\u001b[0mrun\u001b[0m\u001b[1;33m(\u001b[0m\u001b[1;33m[\u001b[0m\u001b[1;34m'TestApp/build/tmp/TestApp/Debug/TestApp'\u001b[0m\u001b[1;33m,\u001b[0m \u001b[1;34m'--crossover'\u001b[0m\u001b[1;33m,\u001b[0m \u001b[1;34m'--in'\u001b[0m\u001b[1;33m,\u001b[0m \u001b[1;34m'test/in_sweep.wav'\u001b[0m\u001b[1;33m,\u001b[0m \u001b[1;34m'--out'\u001b[0m\u001b[1;33m,\u001b[0m \u001b[1;34m'out.wav'\u001b[0m\u001b[1;33m]\u001b[0m\u001b[1;33m)\u001b[0m\u001b[1;33m;\u001b[0m\u001b[1;33m\u001b[0m\u001b[0m\n\u001b[1;32m---> 27\u001b[1;33m \u001b[0ms_r\u001b[0m\u001b[1;33m,\u001b[0m \u001b[0mdata\u001b[0m \u001b[1;33m=\u001b[0m \u001b[0mwav\u001b[0m\u001b[1;33m.\u001b[0m\u001b[0mread\u001b[0m\u001b[1;33m(\u001b[0m\u001b[1;34m'out.wav'\u001b[0m\u001b[1;33m)\u001b[0m\u001b[1;33m\u001b[0m\u001b[0m\n\u001b[0m\u001b[0;32m     28\u001b[0m \u001b[0mdata2\u001b[0m \u001b[1;33m=\u001b[0m \u001b[0mdata\u001b[0m\u001b[1;33m/\u001b[0m\u001b[1;36m2147483648\u001b[0m\u001b[1;33m;\u001b[0m\u001b[1;33m\u001b[0m\u001b[0m\n\u001b[0;32m     29\u001b[0m \u001b[0merror\u001b[0m \u001b[1;33m=\u001b[0m \u001b[0mdata2\u001b[0m\u001b[1;33m[\u001b[0m\u001b[1;33m:\u001b[0m\u001b[1;33m,\u001b[0m \u001b[1;36m0\u001b[0m\u001b[1;33m]\u001b[0m \u001b[1;33m-\u001b[0m \u001b[0mdata2\u001b[0m\u001b[1;33m[\u001b[0m\u001b[1;33m:\u001b[0m\u001b[1;33m,\u001b[0m \u001b[1;36m1\u001b[0m\u001b[1;33m]\u001b[0m\u001b[1;33m\u001b[0m\u001b[0m\n",
      "\u001b[1;32mc:\\python36x64\\lib\\site-packages\\scipy\\io\\wavfile.py\u001b[0m in \u001b[0;36mread\u001b[1;34m(filename, mmap)\u001b[0m\n\u001b[0;32m    545\u001b[0m \u001b[1;33m\u001b[0m\u001b[0m\n\u001b[0;32m    546\u001b[0m     \u001b[1;32mtry\u001b[0m\u001b[1;33m:\u001b[0m\u001b[1;33m\u001b[0m\u001b[0m\n\u001b[1;32m--> 547\u001b[1;33m         \u001b[0mfile_size\u001b[0m\u001b[1;33m,\u001b[0m \u001b[0mis_big_endian\u001b[0m \u001b[1;33m=\u001b[0m \u001b[0m_read_riff_chunk\u001b[0m\u001b[1;33m(\u001b[0m\u001b[0mfid\u001b[0m\u001b[1;33m)\u001b[0m\u001b[1;33m\u001b[0m\u001b[0m\n\u001b[0m\u001b[0;32m    548\u001b[0m         \u001b[0mfmt_chunk_received\u001b[0m \u001b[1;33m=\u001b[0m \u001b[1;32mFalse\u001b[0m\u001b[1;33m\u001b[0m\u001b[0m\n\u001b[0;32m    549\u001b[0m         \u001b[0mdata_chunk_received\u001b[0m \u001b[1;33m=\u001b[0m \u001b[1;32mFalse\u001b[0m\u001b[1;33m\u001b[0m\u001b[0m\n",
      "\u001b[1;32mc:\\python36x64\\lib\\site-packages\\scipy\\io\\wavfile.py\u001b[0m in \u001b[0;36m_read_riff_chunk\u001b[1;34m(fid)\u001b[0m\n\u001b[0;32m    444\u001b[0m     \u001b[1;32melse\u001b[0m\u001b[1;33m:\u001b[0m\u001b[1;33m\u001b[0m\u001b[0m\n\u001b[0;32m    445\u001b[0m         \u001b[1;31m# There are also .wav files with \"FFIR\" or \"XFIR\" signatures?\u001b[0m\u001b[1;33m\u001b[0m\u001b[1;33m\u001b[0m\u001b[0m\n\u001b[1;32m--> 446\u001b[1;33m         raise ValueError(f\"File format {repr(str1)} not understood. Only \"\n\u001b[0m\u001b[0;32m    447\u001b[0m                          \"'RIFF' and 'RIFX' supported.\")\n\u001b[0;32m    448\u001b[0m \u001b[1;33m\u001b[0m\u001b[0m\n",
      "\u001b[1;31mValueError\u001b[0m: File format b'' not understood. Only 'RIFF' and 'RIFX' supported."
     ]
    }
   ],
   "source": [
    "import json\n",
    "import subprocess\n",
    "from sklearn.metrics import mean_squared_error\n",
    "from scipy.io import wavfile as wav\n",
    "import matplotlib.pyplot as plt\n",
    "\n",
    "def set_preset(fc, form, order):\n",
    "    with open('apf_preset.json', 'r') as f:\n",
    "        apf_preset = json.load(f)\n",
    "    apf_preset['Cutoff freq'] = fc\n",
    "    apf_preset['Form'] = form\n",
    "    apf_preset['Order'] = order\n",
    "    with open('apf_preset.json', 'w') as f:\n",
    "        json.dump(apf_preset, f)\n",
    "    return\n",
    "\n",
    "def get_error_fxd():\n",
    "    s_r, data = wav.read('out.wav')\n",
    "#     error = data[:, 0] - data[:, 1]\n",
    "    data2 = data/2147483648.0\n",
    "    rmse = mean_squared_error(data2[:, 0], data2[:, 1], squared=False)\n",
    "#     print(rmse)\n",
    "    return rmse\n",
    "\n",
    "set_preset(1, 2, 2)\n",
    "subprocess.run(['TestApp/build/tmp/TestApp/Debug/TestApp', '--crossover', '--in', 'test/in_sweep.wav', '--out', 'out.wav']);\n",
    "s_r, data = wav.read('out.wav')\n",
    "data2 = data/2147483648; \n",
    "error = data2[:, 0] - data2[:, 1]\n",
    "error = abs(error)\n",
    "# plt.axis([42800,43000,-1,1.5])\n",
    "# plt.plot(data2[:, 1])\n",
    "# plt.plot(data2[:, 0],label='dbl')\n",
    "plt.plot(error)\n",
    "# plt.legend()\n",
    "plt.show()\n",
    "\n",
    "print(error)\n",
    "print(get_error_fxd())"
   ]
  },
  {
   "cell_type": "code",
   "execution_count": 38,
   "metadata": {},
   "outputs": [
    {
     "data": {
      "image/png": "[encoded data removed]",
      "text/plain": [
       "<Figure size 432x288 with 1 Axes>"
      ]
     },
     "metadata": {
      "needs_background": "light"
     },
     "output_type": "display_data"
    },
    {
     "name": "stdout",
     "output_type": "stream",
     "text": [
      "[0.0000000e+00 0.0000000e+00 7.2759576e-12 ... 2.9802322e-08 2.9802322e-08\n",
      " 4.4703484e-08]\n",
      "-297.36433029174805\n"
     ]
    }
   ],
   "source": [
    "import json\n",
    "import subprocess\n",
    "from sklearn.metrics import mean_squared_error\n",
    "from scipy.io import wavfile as wav\n",
    "import matplotlib.pyplot as plt\n",
    "import numpy as np\n",
    "\n",
    "def set_preset_cross(f1, f2, f3, g1, g2,g3, g4, form1, form2):\n",
    "    with open('preset.json', 'r') as f:\n",
    "        cross_preset = json.load(f)\n",
    "    cross_preset['Crossover']['f1'] = f1\n",
    "    cross_preset['Crossover']['f2'] = f2\n",
    "    cross_preset['Crossover']['f3'] = f3\n",
    "    cross_preset['Crossover']['g1'] = g1\n",
    "    cross_preset['Crossover']['g2'] = g2\n",
    "    cross_preset['Crossover']['g3'] = g3\n",
    "    cross_preset['Crossover']['g4'] = g4\n",
    "    cross_preset['Crossover']['form1'] = form1\n",
    "    cross_preset['Crossover']['form2'] = form2\n",
    "    with open('preset.json', 'w') as f:\n",
    "        json.dump(cross_preset, f)\n",
    "    return\n",
    "\n",
    "def get_error_fxd():\n",
    "    s_r, data = wav.read('out.wav')\n",
    "#     error = data[:, 0] - data[:, 1]\n",
    "    data2 = data/2147483648.0\n",
    "    rmse = 20*np.log10(mean_squared_error(data2[:, 0], data2[:, 1], squared=False))\n",
    "#     print(rmse)\n",
    "    return rmse\n",
    "freq = 10.0\n",
    "g = 0.0\n",
    "\n",
    "set_preset_cross(freq,freq+500, freq+1000, 0, 0, -60.0, 0, 2, 1)\n",
    "subprocess.run(['TestApp/build/tmp/TestApp/Debug/TestApp', '--crossover', '--in', 'test/in_sweep.wav', '--out', 'out.wav']);\n",
    "s_r, data = wav.read('out.wav')\n",
    "error = data[:, 0] - data[:, 1]\n",
    "error = abs(error)\n",
    "\n",
    "plt.plot(error)\n",
    "\n",
    "plt.show()\n",
    "\n",
    "print(error)\n",
    "print(get_error_fxd())"
   ]
  },
  {
   "cell_type": "code",
   "execution_count": 38,
   "metadata": {
    "scrolled": true
   },
   "outputs": [],
   "source": [
    "cutoff_freq = 23000\n",
    "direct1 = []\n",
    "step = 250\n",
    "fc = range(1,cutoff_freq,step)\n",
    "g = 0.0\n",
    "test_signal = 'test/in_sweep.wav'\n",
    "for freq in fc:\n",
    "    set_preset_cross(freq,freq+500, freq+1000, g, g,g, g, 2, 1)\n",
    "    subprocess.run(['TestApp/build/tmp/TestApp/Debug/TestApp', '--crossover', '--in', test_signal, '--out', 'out.wav']);\n",
    "    direct1.append(get_error_fxd())\n",
    "direct3 = []\n",
    "g = 0.0\n",
    "for freq in fc:\n",
    "    set_preset_cross(freq,freq+500, freq+1000, g, g,g, g, 2, 3)\n",
    "    subprocess.run(['TestApp/build/tmp/TestApp/Debug/TestApp', '--crossover', '--in', test_signal, '--out', 'out.wav']);\n",
    "    direct3.append(get_error_fxd())"
   ]
  },
  {
   "cell_type": "code",
   "execution_count": 28,
   "metadata": {},
   "outputs": [
    {
     "ename": "ValueError",
     "evalue": "x and y must have same first dimension, but have shapes (1,) and (96,)",
     "output_type": "error",
     "traceback": [
      "\u001b[1;31m---------------------------------------------------------------------------\u001b[0m",
      "\u001b[1;31mValueError\u001b[0m                                Traceback (most recent call last)",
      "\u001b[1;32m<ipython-input-28-8417dd30da99>\u001b[0m in \u001b[0;36m<module>\u001b[1;34m\u001b[0m\n\u001b[0;32m      6\u001b[0m \u001b[1;31m# plt.plot(lattice,label='lattice')\u001b[0m\u001b[1;33m\u001b[0m\u001b[1;33m\u001b[0m\u001b[0m\n\u001b[0;32m      7\u001b[0m \u001b[1;31m# plt.plot(direct1,label='Direct1')\u001b[0m\u001b[1;33m\u001b[0m\u001b[1;33m\u001b[0m\u001b[0m\n\u001b[1;32m----> 8\u001b[1;33m \u001b[0mplt\u001b[0m\u001b[1;33m.\u001b[0m\u001b[0mplot\u001b[0m\u001b[1;33m(\u001b[0m\u001b[0mfc\u001b[0m\u001b[1;33m,\u001b[0m\u001b[0mdirect1\u001b[0m\u001b[1;33m,\u001b[0m\u001b[0mlabel\u001b[0m\u001b[1;33m=\u001b[0m\u001b[1;34m'Direct1'\u001b[0m\u001b[1;33m)\u001b[0m\u001b[1;33m\u001b[0m\u001b[0m\n\u001b[0m\u001b[0;32m      9\u001b[0m \u001b[0mplt\u001b[0m\u001b[1;33m.\u001b[0m\u001b[0mplot\u001b[0m\u001b[1;33m(\u001b[0m\u001b[0mfc\u001b[0m\u001b[1;33m,\u001b[0m\u001b[0mdirect3\u001b[0m\u001b[1;33m,\u001b[0m\u001b[0mlabel\u001b[0m\u001b[1;33m=\u001b[0m\u001b[1;34m'Direct3'\u001b[0m\u001b[1;33m)\u001b[0m\u001b[1;33m\u001b[0m\u001b[0m\n\u001b[0;32m     10\u001b[0m \u001b[1;31m# plt.Axes.set_xlim([40, 60])\u001b[0m\u001b[1;33m\u001b[0m\u001b[1;33m\u001b[0m\u001b[0m\n",
      "\u001b[1;32mc:\\python36x64\\lib\\site-packages\\matplotlib\\pyplot.py\u001b[0m in \u001b[0;36mplot\u001b[1;34m(scalex, scaley, data, *args, **kwargs)\u001b[0m\n\u001b[0;32m   2840\u001b[0m     return gca().plot(\n\u001b[0;32m   2841\u001b[0m         \u001b[1;33m*\u001b[0m\u001b[0margs\u001b[0m\u001b[1;33m,\u001b[0m \u001b[0mscalex\u001b[0m\u001b[1;33m=\u001b[0m\u001b[0mscalex\u001b[0m\u001b[1;33m,\u001b[0m \u001b[0mscaley\u001b[0m\u001b[1;33m=\u001b[0m\u001b[0mscaley\u001b[0m\u001b[1;33m,\u001b[0m\u001b[1;33m\u001b[0m\u001b[0m\n\u001b[1;32m-> 2842\u001b[1;33m         **({\"data\": data} if data is not None else {}), **kwargs)\n\u001b[0m\u001b[0;32m   2843\u001b[0m \u001b[1;33m\u001b[0m\u001b[0m\n\u001b[0;32m   2844\u001b[0m \u001b[1;33m\u001b[0m\u001b[0m\n",
      "\u001b[1;32mc:\\python36x64\\lib\\site-packages\\matplotlib\\axes\\_axes.py\u001b[0m in \u001b[0;36mplot\u001b[1;34m(self, scalex, scaley, data, *args, **kwargs)\u001b[0m\n\u001b[0;32m   1741\u001b[0m         \"\"\"\n\u001b[0;32m   1742\u001b[0m         \u001b[0mkwargs\u001b[0m \u001b[1;33m=\u001b[0m \u001b[0mcbook\u001b[0m\u001b[1;33m.\u001b[0m\u001b[0mnormalize_kwargs\u001b[0m\u001b[1;33m(\u001b[0m\u001b[0mkwargs\u001b[0m\u001b[1;33m,\u001b[0m \u001b[0mmlines\u001b[0m\u001b[1;33m.\u001b[0m\u001b[0mLine2D\u001b[0m\u001b[1;33m)\u001b[0m\u001b[1;33m\u001b[0m\u001b[0m\n\u001b[1;32m-> 1743\u001b[1;33m         \u001b[0mlines\u001b[0m \u001b[1;33m=\u001b[0m \u001b[1;33m[\u001b[0m\u001b[1;33m*\u001b[0m\u001b[0mself\u001b[0m\u001b[1;33m.\u001b[0m\u001b[0m_get_lines\u001b[0m\u001b[1;33m(\u001b[0m\u001b[1;33m*\u001b[0m\u001b[0margs\u001b[0m\u001b[1;33m,\u001b[0m \u001b[0mdata\u001b[0m\u001b[1;33m=\u001b[0m\u001b[0mdata\u001b[0m\u001b[1;33m,\u001b[0m \u001b[1;33m**\u001b[0m\u001b[0mkwargs\u001b[0m\u001b[1;33m)\u001b[0m\u001b[1;33m]\u001b[0m\u001b[1;33m\u001b[0m\u001b[0m\n\u001b[0m\u001b[0;32m   1744\u001b[0m         \u001b[1;32mfor\u001b[0m \u001b[0mline\u001b[0m \u001b[1;32min\u001b[0m \u001b[0mlines\u001b[0m\u001b[1;33m:\u001b[0m\u001b[1;33m\u001b[0m\u001b[0m\n\u001b[0;32m   1745\u001b[0m             \u001b[0mself\u001b[0m\u001b[1;33m.\u001b[0m\u001b[0madd_line\u001b[0m\u001b[1;33m(\u001b[0m\u001b[0mline\u001b[0m\u001b[1;33m)\u001b[0m\u001b[1;33m\u001b[0m\u001b[0m\n",
      "\u001b[1;32mc:\\python36x64\\lib\\site-packages\\matplotlib\\axes\\_base.py\u001b[0m in \u001b[0;36m__call__\u001b[1;34m(self, data, *args, **kwargs)\u001b[0m\n\u001b[0;32m    271\u001b[0m                 \u001b[0mthis\u001b[0m \u001b[1;33m+=\u001b[0m \u001b[0margs\u001b[0m\u001b[1;33m[\u001b[0m\u001b[1;36m0\u001b[0m\u001b[1;33m]\u001b[0m\u001b[1;33m,\u001b[0m\u001b[1;33m\u001b[0m\u001b[0m\n\u001b[0;32m    272\u001b[0m                 \u001b[0margs\u001b[0m \u001b[1;33m=\u001b[0m \u001b[0margs\u001b[0m\u001b[1;33m[\u001b[0m\u001b[1;36m1\u001b[0m\u001b[1;33m:\u001b[0m\u001b[1;33m]\u001b[0m\u001b[1;33m\u001b[0m\u001b[0m\n\u001b[1;32m--> 273\u001b[1;33m             \u001b[1;32myield\u001b[0m \u001b[1;32mfrom\u001b[0m \u001b[0mself\u001b[0m\u001b[1;33m.\u001b[0m\u001b[0m_plot_args\u001b[0m\u001b[1;33m(\u001b[0m\u001b[0mthis\u001b[0m\u001b[1;33m,\u001b[0m \u001b[0mkwargs\u001b[0m\u001b[1;33m)\u001b[0m\u001b[1;33m\u001b[0m\u001b[0m\n\u001b[0m\u001b[0;32m    274\u001b[0m \u001b[1;33m\u001b[0m\u001b[0m\n\u001b[0;32m    275\u001b[0m     \u001b[1;32mdef\u001b[0m \u001b[0mget_next_color\u001b[0m\u001b[1;33m(\u001b[0m\u001b[0mself\u001b[0m\u001b[1;33m)\u001b[0m\u001b[1;33m:\u001b[0m\u001b[1;33m\u001b[0m\u001b[0m\n",
      "\u001b[1;32mc:\\python36x64\\lib\\site-packages\\matplotlib\\axes\\_base.py\u001b[0m in \u001b[0;36m_plot_args\u001b[1;34m(self, tup, kwargs)\u001b[0m\n\u001b[0;32m    397\u001b[0m \u001b[1;33m\u001b[0m\u001b[0m\n\u001b[0;32m    398\u001b[0m         \u001b[1;32mif\u001b[0m \u001b[0mx\u001b[0m\u001b[1;33m.\u001b[0m\u001b[0mshape\u001b[0m\u001b[1;33m[\u001b[0m\u001b[1;36m0\u001b[0m\u001b[1;33m]\u001b[0m \u001b[1;33m!=\u001b[0m \u001b[0my\u001b[0m\u001b[1;33m.\u001b[0m\u001b[0mshape\u001b[0m\u001b[1;33m[\u001b[0m\u001b[1;36m0\u001b[0m\u001b[1;33m]\u001b[0m\u001b[1;33m:\u001b[0m\u001b[1;33m\u001b[0m\u001b[0m\n\u001b[1;32m--> 399\u001b[1;33m             raise ValueError(f\"x and y must have same first dimension, but \"\n\u001b[0m\u001b[0;32m    400\u001b[0m                              f\"have shapes {x.shape} and {y.shape}\")\n\u001b[0;32m    401\u001b[0m         \u001b[1;32mif\u001b[0m \u001b[0mx\u001b[0m\u001b[1;33m.\u001b[0m\u001b[0mndim\u001b[0m \u001b[1;33m>\u001b[0m \u001b[1;36m2\u001b[0m \u001b[1;32mor\u001b[0m \u001b[0my\u001b[0m\u001b[1;33m.\u001b[0m\u001b[0mndim\u001b[0m \u001b[1;33m>\u001b[0m \u001b[1;36m2\u001b[0m\u001b[1;33m:\u001b[0m\u001b[1;33m\u001b[0m\u001b[0m\n",
      "\u001b[1;31mValueError\u001b[0m: x and y must have same first dimension, but have shapes (1,) and (96,)"
     ]
    },
    {
     "data": {
      "image/png": "[encoded data removed]",
      "text/plain": [
       "<Figure size 864x504 with 1 Axes>"
      ]
     },
     "metadata": {
      "needs_background": "light"
     },
     "output_type": "display_data"
    }
   ],
   "source": [
    "import matplotlib.pyplot as plt\n",
    "import matplotlib.axes as axe\n",
    "# axe.Axes.set_xlim([40, 60])\n",
    "# plt.axis( [0, 1000])\n",
    "plt.figure(figsize=(12,7))\n",
    "# plt.plot(lattice,label='lattice')\n",
    "# plt.plot(direct1,label='Direct1')\n",
    "plt.plot(fc,direct1,label='Direct1')\n",
    "plt.plot(fc,direct3,label='Direct3')\n",
    "# plt.Axes.set_xlim([40, 60])\n",
    "# plt.axis([0,20,0,0.04])\n",
    "plt.ylabel('RMSE')\n",
    "plt.xlabel('Cutoff frequency')\n",
    "plt.title(test_signal)\n",
    "# ax_zoom = plottools.zoom_axes(fig,ax,[0.1,0.2],[0.8,0.9],[0.6,0.9],[0.6,0.9])\n",
    "# print(res)\n",
    "plt.legend()\n",
    "plt.show()"
   ]
  }
 ],
 "metadata": {
  "kernelspec": {
   "display_name": "Python 3",
   "language": "python",
   "name": "python3"
  },
  "language_info": {
   "codemirror_mode": {
    "name": "ipython",
    "version": 3
   },
   "file_extension": ".py",
   "mimetype": "text/x-python",
   "name": "python",
   "nbconvert_exporter": "python",
   "pygments_lexer": "ipython3",
   "version": "3.6.4"
  }
 },
 "nbformat": 4,
 "nbformat_minor": 4
}
